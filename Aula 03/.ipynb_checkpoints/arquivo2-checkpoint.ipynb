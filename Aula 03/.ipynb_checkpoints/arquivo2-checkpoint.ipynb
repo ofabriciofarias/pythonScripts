{
 "cells": [
  {
   "cell_type": "code",
   "execution_count": 2,
   "id": "9143d57c-57cc-4509-b7fb-c5840100c9b0",
   "metadata": {},
   "outputs": [],
   "source": [
    "import numpy as np"
   ]
  },
  {
   "cell_type": "code",
   "execution_count": 4,
   "id": "f01377eb-0e3b-46cd-9187-c88a6938772c",
   "metadata": {},
   "outputs": [],
   "source": [
    "np.random.seed(101)\n",
    "vetor = np.random.randint(0,100,10)"
   ]
  },
  {
   "cell_type": "code",
   "execution_count": 6,
   "id": "e006c9bd-d9eb-43b8-86a8-36abcb9460b8",
   "metadata": {},
   "outputs": [
    {
     "data": {
      "text/plain": [
       "array([95, 11, 81, 70, 63, 87, 75,  9, 77, 40])"
      ]
     },
     "execution_count": 6,
     "metadata": {},
     "output_type": "execute_result"
    }
   ],
   "source": [
    "vetor"
   ]
  },
  {
   "cell_type": "code",
   "execution_count": 8,
   "id": "bb6a9ca4-e398-4278-a7c5-89bd772ed8a4",
   "metadata": {},
   "outputs": [],
   "source": [
    "vetor2 = np.random.randint(0,100,10)"
   ]
  },
  {
   "cell_type": "code",
   "execution_count": 10,
   "id": "46403b62-a299-4a91-8947-78cda826ecd0",
   "metadata": {},
   "outputs": [
    {
     "data": {
      "text/plain": [
       "array([ 4, 63, 40, 60, 92, 64,  5, 12, 93, 40])"
      ]
     },
     "execution_count": 10,
     "metadata": {},
     "output_type": "execute_result"
    }
   ],
   "source": [
    "vetor2"
   ]
  },
  {
   "cell_type": "code",
   "execution_count": 12,
   "id": "8c6d91c1-52b4-47b4-86fd-a0d478c09ea7",
   "metadata": {},
   "outputs": [
    {
     "data": {
      "text/plain": [
       "60.8"
      ]
     },
     "execution_count": 12,
     "metadata": {},
     "output_type": "execute_result"
    }
   ],
   "source": [
    "vetor.mean()"
   ]
  },
  {
   "cell_type": "code",
   "execution_count": null,
   "id": "2091dbe8-9079-4e21-b11f-63f833dd2fe7",
   "metadata": {},
   "outputs": [],
   "source": []
  }
 ],
 "metadata": {
  "kernelspec": {
   "display_name": "Python [conda env:base] *",
   "language": "python",
   "name": "conda-base-py"
  },
  "language_info": {
   "codemirror_mode": {
    "name": "ipython",
    "version": 3
   },
   "file_extension": ".py",
   "mimetype": "text/x-python",
   "name": "python",
   "nbconvert_exporter": "python",
   "pygments_lexer": "ipython3",
   "version": "3.12.7"
  }
 },
 "nbformat": 4,
 "nbformat_minor": 5
}
