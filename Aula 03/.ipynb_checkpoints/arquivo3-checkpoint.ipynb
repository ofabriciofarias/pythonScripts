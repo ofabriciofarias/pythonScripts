{
 "cells": [
  {
   "cell_type": "code",
   "execution_count": 1,
   "id": "548de5b8-4541-40bc-8745-95c53fbd5bc7",
   "metadata": {},
   "outputs": [],
   "source": [
    "import numpy as np"
   ]
  },
  {
   "cell_type": "code",
   "execution_count": 16,
   "id": "200ff092-622f-4808-8e3c-13e855c64f9e",
   "metadata": {},
   "outputs": [],
   "source": [
    "vetor = np.random.randint(0,200,10)"
   ]
  },
  {
   "cell_type": "code",
   "execution_count": 17,
   "id": "63af7972-1515-4b8e-9024-12119bed9da2",
   "metadata": {},
   "outputs": [
    {
     "data": {
      "text/plain": [
       "array([158, 138, 153,  56, 101, 177, 181, 187, 172,  35])"
      ]
     },
     "execution_count": 17,
     "metadata": {},
     "output_type": "execute_result"
    }
   ],
   "source": [
    "vetor"
   ]
  },
  {
   "cell_type": "code",
   "execution_count": 18,
   "id": "c30bc15c-d37d-4147-b5b8-d1559c8a982c",
   "metadata": {},
   "outputs": [
    {
     "data": {
      "text/plain": [
       "187"
      ]
     },
     "execution_count": 18,
     "metadata": {},
     "output_type": "execute_result"
    }
   ],
   "source": [
    "vetor.max()"
   ]
  },
  {
   "cell_type": "code",
   "execution_count": 19,
   "id": "e775ff0d-18b9-4d82-b3c3-7367370bc485",
   "metadata": {},
   "outputs": [
    {
     "data": {
      "text/plain": [
       "7"
      ]
     },
     "execution_count": 19,
     "metadata": {},
     "output_type": "execute_result"
    }
   ],
   "source": [
    "vetor.argmax()"
   ]
  },
  {
   "cell_type": "code",
   "execution_count": 20,
   "id": "26f5c8f9-ffca-40e3-ad1b-a231d499d538",
   "metadata": {},
   "outputs": [
    {
     "data": {
      "text/plain": [
       "35"
      ]
     },
     "execution_count": 20,
     "metadata": {},
     "output_type": "execute_result"
    }
   ],
   "source": [
    "vetor.min()"
   ]
  },
  {
   "cell_type": "code",
   "execution_count": 21,
   "id": "0c5cc313-b6bd-4ece-ba8e-98c65d3284e6",
   "metadata": {},
   "outputs": [
    {
     "data": {
      "text/plain": [
       "9"
      ]
     },
     "execution_count": 21,
     "metadata": {},
     "output_type": "execute_result"
    }
   ],
   "source": [
    "vetor.argmin()"
   ]
  },
  {
   "cell_type": "code",
   "execution_count": 22,
   "id": "57bc6392-6976-4969-845b-de87903bf5d8",
   "metadata": {},
   "outputs": [
    {
     "data": {
      "text/plain": [
       "135.8"
      ]
     },
     "execution_count": 22,
     "metadata": {},
     "output_type": "execute_result"
    }
   ],
   "source": [
    "vetor.mean()"
   ]
  },
  {
   "cell_type": "code",
   "execution_count": 24,
   "id": "0dbb5a9b-0cfe-49e8-afd1-95af36642b03",
   "metadata": {},
   "outputs": [
    {
     "data": {
      "text/plain": [
       "(10,)"
      ]
     },
     "execution_count": 24,
     "metadata": {},
     "output_type": "execute_result"
    }
   ],
   "source": [
    "vetor.shape"
   ]
  }
 ],
 "metadata": {
  "kernelspec": {
   "display_name": "Python 3",
   "language": "python",
   "name": "python3"
  },
  "language_info": {
   "codemirror_mode": {
    "name": "ipython",
    "version": 3
   },
   "file_extension": ".py",
   "mimetype": "text/x-python",
   "name": "python",
   "nbconvert_exporter": "python",
   "pygments_lexer": "ipython3",
   "version": "3.8.8"
  }
 },
 "nbformat": 4,
 "nbformat_minor": 5
}
