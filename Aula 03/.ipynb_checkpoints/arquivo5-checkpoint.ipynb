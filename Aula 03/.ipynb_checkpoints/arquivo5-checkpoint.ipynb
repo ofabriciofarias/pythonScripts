{
 "cells": [
  {
   "cell_type": "code",
   "execution_count": 1,
   "id": "99602c52-2983-44d2-a251-09c4719bc9c4",
   "metadata": {},
   "outputs": [],
   "source": [
    "import numpy as np"
   ]
  },
  {
   "cell_type": "code",
   "execution_count": 3,
   "id": "57c50f2a-b72c-4d33-9fa2-ce4886a9aea0",
   "metadata": {},
   "outputs": [],
   "source": [
    "matriz = np.arange(0,100)"
   ]
  },
  {
   "cell_type": "code",
   "execution_count": 20,
   "id": "7a1244a0-d850-4112-a250-1e6c36e894b7",
   "metadata": {},
   "outputs": [
    {
     "data": {
      "text/plain": [
       "array([[ 0,  1,  2,  3,  4,  5,  6,  7,  8,  9],\n",
       "       [10, 11, 12, 13, 14, 15, 16, 17, 18, 19],\n",
       "       [20, 21, 22, 23, 24, 25, 26, 27, 28, 29],\n",
       "       [30, 31, 32, 33, 34, 35, 36, 37, 38, 39],\n",
       "       [40, 41, 42, 43, 44, 45, 46, 47, 48, 49],\n",
       "       [50, 51, 52, 53, 54, 55, 56, 57, 58, 59],\n",
       "       [60, 61, 62, 63, 64, 65, 66, 67, 68, 69],\n",
       "       [70, 71, 72, 73, 74, 75, 76, 77, 78, 79],\n",
       "       [80, 81, 82, 83, 84, 85, 86, 87, 88, 89],\n",
       "       [90, 91, 92, 93, 94, 95, 96, 97, 98, 99]])"
      ]
     },
     "execution_count": 20,
     "metadata": {},
     "output_type": "execute_result"
    }
   ],
   "source": [
    "matriz"
   ]
  },
  {
   "cell_type": "code",
   "execution_count": 17,
   "id": "bfdfac98-f665-4d1f-b84e-3c928673e347",
   "metadata": {},
   "outputs": [],
   "source": [
    "matriz = matriz.reshape(10,10)"
   ]
  },
  {
   "cell_type": "code",
   "execution_count": 21,
   "id": "05e180ff-a051-4452-a2b7-78d458217168",
   "metadata": {},
   "outputs": [],
   "source": [
    "linha = 0"
   ]
  },
  {
   "cell_type": "code",
   "execution_count": 22,
   "id": "c32f67de-3a43-44c2-a3ff-b1369eba64f6",
   "metadata": {},
   "outputs": [],
   "source": [
    "coluna = 1"
   ]
  },
  {
   "cell_type": "code",
   "execution_count": 23,
   "id": "0c8872fc-eea0-4618-8df4-f776f462cf18",
   "metadata": {},
   "outputs": [
    {
     "data": {
      "text/plain": [
       "1"
      ]
     },
     "execution_count": 23,
     "metadata": {},
     "output_type": "execute_result"
    }
   ],
   "source": [
    "matriz[linha,coluna]"
   ]
  }
 ],
 "metadata": {
  "kernelspec": {
   "display_name": "Python 3",
   "language": "python",
   "name": "python3"
  },
  "language_info": {
   "codemirror_mode": {
    "name": "ipython",
    "version": 3
   },
   "file_extension": ".py",
   "mimetype": "text/x-python",
   "name": "python",
   "nbconvert_exporter": "python",
   "pygments_lexer": "ipython3",
   "version": "3.8.8"
  }
 },
 "nbformat": 4,
 "nbformat_minor": 5
}
