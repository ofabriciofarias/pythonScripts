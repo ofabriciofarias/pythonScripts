{
 "cells": [
  {
   "cell_type": "code",
   "execution_count": 2,
   "id": "99602c52-2983-44d2-a251-09c4719bc9c4",
   "metadata": {},
   "outputs": [],
   "source": [
    "import numpy as np"
   ]
  },
  {
   "cell_type": "code",
   "execution_count": 3,
   "id": "57c50f2a-b72c-4d33-9fa2-ce4886a9aea0",
   "metadata": {},
   "outputs": [],
   "source": [
    "matriz = np.arange(0,100)"
   ]
  },
  {
   "cell_type": "code",
   "execution_count": 4,
   "id": "7a1244a0-d850-4112-a250-1e6c36e894b7",
   "metadata": {},
   "outputs": [
    {
     "data": {
      "text/plain": [
       "array([ 0,  1,  2,  3,  4,  5,  6,  7,  8,  9, 10, 11, 12, 13, 14, 15, 16,\n",
       "       17, 18, 19, 20, 21, 22, 23, 24, 25, 26, 27, 28, 29, 30, 31, 32, 33,\n",
       "       34, 35, 36, 37, 38, 39, 40, 41, 42, 43, 44, 45, 46, 47, 48, 49, 50,\n",
       "       51, 52, 53, 54, 55, 56, 57, 58, 59, 60, 61, 62, 63, 64, 65, 66, 67,\n",
       "       68, 69, 70, 71, 72, 73, 74, 75, 76, 77, 78, 79, 80, 81, 82, 83, 84,\n",
       "       85, 86, 87, 88, 89, 90, 91, 92, 93, 94, 95, 96, 97, 98, 99])"
      ]
     },
     "execution_count": 4,
     "metadata": {},
     "output_type": "execute_result"
    }
   ],
   "source": [
    "matriz"
   ]
  },
  {
   "cell_type": "code",
   "execution_count": 8,
   "id": "bfdfac98-f665-4d1f-b84e-3c928673e347",
   "metadata": {},
   "outputs": [],
   "source": [
    "matriz = matriz.reshape(10,10)"
   ]
  },
  {
   "cell_type": "code",
   "execution_count": 10,
   "id": "05e180ff-a051-4452-a2b7-78d458217168",
   "metadata": {},
   "outputs": [],
   "source": [
    "linha = 0"
   ]
  },
  {
   "cell_type": "code",
   "execution_count": 12,
   "id": "c32f67de-3a43-44c2-a3ff-b1369eba64f6",
   "metadata": {},
   "outputs": [],
   "source": [
    "coluna = 1"
   ]
  },
  {
   "cell_type": "code",
   "execution_count": 14,
   "id": "0c8872fc-eea0-4618-8df4-f776f462cf18",
   "metadata": {},
   "outputs": [
    {
     "data": {
      "text/plain": [
       "1"
      ]
     },
     "execution_count": 14,
     "metadata": {},
     "output_type": "execute_result"
    }
   ],
   "source": [
    "matriz[linha,coluna]"
   ]
  },
  {
   "cell_type": "code",
   "execution_count": null,
   "id": "7a3d60f8-e90c-40b6-87d7-418967e3c48b",
   "metadata": {},
   "outputs": [],
   "source": []
  }
 ],
 "metadata": {
  "kernelspec": {
   "display_name": "Python [conda env:base] *",
   "language": "python",
   "name": "conda-base-py"
  },
  "language_info": {
   "codemirror_mode": {
    "name": "ipython",
    "version": 3
   },
   "file_extension": ".py",
   "mimetype": "text/x-python",
   "name": "python",
   "nbconvert_exporter": "python",
   "pygments_lexer": "ipython3",
   "version": "3.12.7"
  }
 },
 "nbformat": 4,
 "nbformat_minor": 5
}
