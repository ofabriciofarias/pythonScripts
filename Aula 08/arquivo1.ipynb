{
 "cells": [
  {
   "cell_type": "code",
   "execution_count": 1,
   "id": "0ad6e772-6ba6-49d4-91ea-c5122a1cc449",
   "metadata": {},
   "outputs": [],
   "source": [
    "import numpy as np\n",
    "import cv2"
   ]
  },
  {
   "cell_type": "code",
   "execution_count": 3,
   "id": "ad4ad3f6-d2e4-448e-8ab9-f547ba443e21",
   "metadata": {},
   "outputs": [],
   "source": [
    "#Função\n",
    "def circulo(event, x, y, flag, param):\n",
    "    if event == cv2.EVENT_LBUTTONDOWN:\n",
    "        cv2.circle(imagem, (x,y), 100, (0,255,255), 10)\n",
    "        #cv2.rectangle(imagem, pt1 = (x,x), pt2 = (y,y), color = (255,0,0), thickness = 10)\n",
    "    elif event == cv2.EVENT_RBUTTONDOWN:\n",
    "        cv2.circle(imagem, (x,y), 100, (255,255,0), -1)\n",
    "        \n",
    "cv2.namedWindow(winname = 'minha_imagem')\n",
    "\n",
    "cv2.setMouseCallback('minha_imagem', circulo)\n",
    "\n",
    "#Apresentação da imagem com o Open cv\n",
    "imagem = np.zeros((400,400,3))\n",
    "\n",
    "while True:\n",
    "    \n",
    "    cv2.imshow('minha_imagem', imagem)\n",
    "    \n",
    "    if cv2.waitKey(20) & 0xFF == 27:\n",
    "        break\n",
    "    \n",
    "cv2.destroyAllWindows()"
   ]
  },
  {
   "cell_type": "code",
   "execution_count": null,
   "id": "07af6432-813c-423b-ac3a-bbc115203964",
   "metadata": {},
   "outputs": [],
   "source": []
  }
 ],
 "metadata": {
  "kernelspec": {
   "display_name": "Python [conda env:base] *",
   "language": "python",
   "name": "conda-base-py"
  },
  "language_info": {
   "codemirror_mode": {
    "name": "ipython",
    "version": 3
   },
   "file_extension": ".py",
   "mimetype": "text/x-python",
   "name": "python",
   "nbconvert_exporter": "python",
   "pygments_lexer": "ipython3",
   "version": "3.12.7"
  }
 },
 "nbformat": 4,
 "nbformat_minor": 5
}
