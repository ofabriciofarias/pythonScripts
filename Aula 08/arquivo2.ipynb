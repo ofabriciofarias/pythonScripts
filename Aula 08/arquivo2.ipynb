{
 "cells": [
  {
   "cell_type": "code",
   "execution_count": 4,
   "id": "63045d2a-cacc-4ed1-b52b-73363af8e8d3",
   "metadata": {},
   "outputs": [],
   "source": [
    "import numpy as np\n",
    "import cv2"
   ]
  },
  {
   "cell_type": "code",
   "execution_count": 6,
   "id": "3e341aaa-7272-48dd-8213-39ce10c242d2",
   "metadata": {},
   "outputs": [],
   "source": [
    "#Variaveis\n",
    "#desenho é Falso quando o clique não estiver acionado\n",
    "#desenho é Verdadeiro qunado o clique estiver pressionado\n",
    "desenho = False\n",
    "ix = -1\n",
    "iy = -1\n",
    "\n",
    "#Função\n",
    "def retangulo(event, x, y, flags, params):\n",
    "    global ix, iy, desenho\n",
    "    \n",
    "    #Condicionais\n",
    "    if event == cv2.EVENT_LBUTTONDOWN: #Quando o botão esquerdo é clicado\n",
    "        ix = x\n",
    "        iy = y\n",
    "        desenho = True\n",
    "        \n",
    "    elif event == cv2.EVENT_MOUSEMOVE: #Quando o botão está clicado e o mouse sendo movido\n",
    "        if desenho == True:\n",
    "            cv2.rectangle(imagem, (ix,iy), (x,y), (255,255,255), -1)\n",
    "    \n",
    "    elif event == cv2.EVENT_LBUTTONUP: # Quando o botão do lado esquerdo do mouse deixa de ser clicado\n",
    "        desenho = False\n",
    "        cv2.rectangle(imagem, (ix,iy), (x,y), (0,255,255), -1)\n",
    "\n",
    "cv2.namedWindow(winname = 'minha_tela')\n",
    "cv2.setMouseCallback('minha_tela', retangulo)\n",
    "        \n",
    "#Apresentaçao\n",
    "imagem = np.zeros((400,400,3))\n",
    "\n",
    "while True:\n",
    "    \n",
    "    cv2.imshow('minha_tela', imagem)\n",
    "    \n",
    "    if cv2.waitKey(20) & 0xFF == 27:\n",
    "        break\n",
    "        \n",
    "cv2.destroyAllWindows()"
   ]
  },
  {
   "cell_type": "code",
   "execution_count": null,
   "id": "c913ca69-a0aa-4cfb-9581-c8ad2e97609e",
   "metadata": {},
   "outputs": [],
   "source": []
  }
 ],
 "metadata": {
  "kernelspec": {
   "display_name": "Python [conda env:base] *",
   "language": "python",
   "name": "conda-base-py"
  },
  "language_info": {
   "codemirror_mode": {
    "name": "ipython",
    "version": 3
   },
   "file_extension": ".py",
   "mimetype": "text/x-python",
   "name": "python",
   "nbconvert_exporter": "python",
   "pygments_lexer": "ipython3",
   "version": "3.12.7"
  }
 },
 "nbformat": 4,
 "nbformat_minor": 5
}
