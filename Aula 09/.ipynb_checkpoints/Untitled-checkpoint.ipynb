{
 "cells": [
  {
   "cell_type": "code",
   "execution_count": 25,
   "id": "49025943-e98e-4fa9-ac42-6bd118a2bc00",
   "metadata": {},
   "outputs": [],
   "source": [
    "import numpy as np\n",
    "import cv2\n",
    "\n",
    "cap = cv2.VideoCapture(0)\n",
    "\n",
    "if not cap.isOpened():  # Corrigido de 'captura_imagem' para 'cap'\n",
    "    print(\"Erro ao acessar a câmera.\")\n",
    "    exit()\n",
    "    \n",
    "while(True):\n",
    "    # Capture frame-by-frame\n",
    "    ret, frame = cap.read()\n",
    "\n",
    "    if not ret:\n",
    "        print(\"Falha na captura de imagem.\")\n",
    "        break\n",
    "        \n",
    "    # Operações no frame (convertendo para escala de cinza)\n",
    "    gray = cv2.cvtColor(frame, cv2.COLOR_BGR2GRAY)\n",
    "\n",
    "    # Exibir o frame resultante\n",
    "    cv2.imshow('frame', gray)\n",
    "\n",
    "    # Sair se pressionar 'q'\n",
    "    if cv2.waitKey(1) & 0xFF == ord('q'):\n",
    "        break\n",
    "\n",
    "# Quando terminar, liberar a captura\n",
    "cap.release()\n",
    "cv2.destroyAllWindows()\n"
   ]
  },
  {
   "cell_type": "code",
   "execution_count": null,
   "id": "ff870795-1322-4b83-a126-abab1219d4b6",
   "metadata": {},
   "outputs": [],
   "source": []
  },
  {
   "cell_type": "code",
   "execution_count": null,
   "id": "135ffd4b-6b91-412a-b827-f7bab54c7cfa",
   "metadata": {},
   "outputs": [],
   "source": []
  }
 ],
 "metadata": {
  "kernelspec": {
   "display_name": "Python [conda env:base] *",
   "language": "python",
   "name": "conda-base-py"
  },
  "language_info": {
   "codemirror_mode": {
    "name": "ipython",
    "version": 3
   },
   "file_extension": ".py",
   "mimetype": "text/x-python",
   "name": "python",
   "nbconvert_exporter": "python",
   "pygments_lexer": "ipython3",
   "version": "3.12.7"
  }
 },
 "nbformat": 4,
 "nbformat_minor": 5
}
