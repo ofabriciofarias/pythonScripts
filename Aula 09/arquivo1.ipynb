{
 "cells": [
  {
   "cell_type": "code",
   "execution_count": 3,
   "id": "831e689b-095b-4d1c-9cbe-46ed4c0e76e0",
   "metadata": {},
   "outputs": [],
   "source": [
    "import cv2"
   ]
  },
  {
   "cell_type": "code",
   "execution_count": 14,
   "id": "c879980c-cd8f-41c1-95d9-a6aa60032348",
   "metadata": {},
   "outputs": [],
   "source": [
    "captura_imagem = cv2.VideoCapture(0)\n",
    "\n",
    "if not captura_imagem.isOpened():\n",
    "    print(\"Erro ao acessar a câmera.\")\n",
    "    exit()\n",
    "    \n",
    "largura = captura_imagem.get(cv2.CAP_PROP_FRAME_WIDTH) \n",
    "altura = captura_imagem.get(cv2.CAP_PROP_FRAME_HEIGHT)\n",
    "\n",
    "while True:\n",
    "    \n",
    "    ret, frame = captura_imagem.read()\n",
    "\n",
    "    if not ret:\n",
    "        print(\"Falha na captura de imagem.\")\n",
    "        break\n",
    "        \n",
    "    cv2.imshow('frame', frame)\n",
    "    \n",
    "    if cv2.waitKey(10) & 0xFF == ord('s'):\n",
    "        break\n",
    "\n",
    "captura_imagem.release()\n",
    "cv2.destroyAllWindows()"
   ]
  },
  {
   "cell_type": "code",
   "execution_count": null,
   "id": "e88eee50-36c6-43b3-9079-07f4ea2175c7",
   "metadata": {},
   "outputs": [],
   "source": []
  }
 ],
 "metadata": {
  "kernelspec": {
   "display_name": "Python [conda env:base] *",
   "language": "python",
   "name": "conda-base-py"
  },
  "language_info": {
   "codemirror_mode": {
    "name": "ipython",
    "version": 3
   },
   "file_extension": ".py",
   "mimetype": "text/x-python",
   "name": "python",
   "nbconvert_exporter": "python",
   "pygments_lexer": "ipython3",
   "version": "3.12.7"
  }
 },
 "nbformat": 4,
 "nbformat_minor": 5
}
