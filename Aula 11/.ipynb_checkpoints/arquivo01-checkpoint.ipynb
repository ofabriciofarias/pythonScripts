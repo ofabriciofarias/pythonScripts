{
 "cells": [
  {
   "cell_type": "code",
   "execution_count": 1,
   "id": "a07d6846-7589-422d-b87a-4ce1f83bffb4",
   "metadata": {},
   "outputs": [
    {
     "ename": "error",
     "evalue": "OpenCV(4.5.4-dev) D:\\a\\opencv-python\\opencv-python\\opencv\\modules\\imgproc\\src\\color.cpp:182: error: (-215:Assertion failed) !_src.empty() in function 'cv::cvtColor'\n",
     "output_type": "error",
     "traceback": [
      "\u001b[1;31m---------------------------------------------------------------------------\u001b[0m",
      "\u001b[1;31merror\u001b[0m                                     Traceback (most recent call last)",
      "\u001b[1;32m<ipython-input-1-06ad6a1f05de>\u001b[0m in \u001b[0;36m<module>\u001b[1;34m\u001b[0m\n\u001b[0;32m     41\u001b[0m \u001b[1;33m\u001b[0m\u001b[0m\n\u001b[0;32m     42\u001b[0m     \u001b[1;31m#Apresentar o frame resultante\u001b[0m\u001b[1;33m\u001b[0m\u001b[1;33m\u001b[0m\u001b[1;33m\u001b[0m\u001b[0m\n\u001b[1;32m---> 43\u001b[1;33m     \u001b[0mcv2\u001b[0m\u001b[1;33m.\u001b[0m\u001b[0mimshow\u001b[0m\u001b[1;33m(\u001b[0m\u001b[1;34m'Janela'\u001b[0m\u001b[1;33m,\u001b[0m \u001b[0mframe\u001b[0m\u001b[1;33m)\u001b[0m\u001b[1;33m\u001b[0m\u001b[1;33m\u001b[0m\u001b[0m\n\u001b[0m\u001b[0;32m     44\u001b[0m \u001b[1;33m\u001b[0m\u001b[0m\n\u001b[0;32m     45\u001b[0m     \u001b[1;31m#Comando de saída\u001b[0m\u001b[1;33m\u001b[0m\u001b[1;33m\u001b[0m\u001b[1;33m\u001b[0m\u001b[0m\n",
      "\u001b[1;31merror\u001b[0m: OpenCV(4.5.4-dev) D:\\a\\opencv-python\\opencv-python\\opencv\\modules\\imgproc\\src\\color.cpp:182: error: (-215:Assertion failed) !_src.empty() in function 'cv::cvtColor'\n"
     ]
    }
   ],
   "source": [
    "import cv2\n",
    "\n",
    "#criar a nossa função que apresentará o circulo\n",
    "def desenha_circulo(event, x, y, flags, param):\n",
    "    \n",
    "    #criar variáveis do tipo global\n",
    "    global centro, clique\n",
    "    \n",
    "    #Condicionais que irão verificar o clique do mouse\n",
    "    if event == cv2.EVENT_LBUTTONDOWN:\n",
    "        centro = (x,y)\n",
    "        clique = False\n",
    "        \n",
    "    if event == cv2.EVENT_LBUTTONUP:\n",
    "        clique = True\n",
    "        \n",
    "#Atribuição de valores\n",
    "centro = (0,0)\n",
    "clique = False\n",
    "\n",
    "#Captura do video\n",
    "cap = cv2.VideoCapture(0)\n",
    "\n",
    "#Criar uma janela para o video\n",
    "cv2.namedWindow('Janela')\n",
    "\n",
    "#Juntar a janela à função desenha_circulo\n",
    "cv2.setMouseCallback('Janela', desenha_circulo)\n",
    "\n",
    "\n",
    "while True:\n",
    "    \n",
    "    \n",
    "    #Capturar frame a frame\n",
    "    ret, frame = cap.read()\n",
    "    \n",
    "    #Verificar se algo já foi clicado\n",
    "    if clique:\n",
    "        #Desenhar o circulo\n",
    "        cv2.circle(frame, center = centro, radius = 80, color = (0, 255, 0), thickness = 10)\n",
    "        \n",
    "    #Apresentar o frame resultante\n",
    "    cv2.imshow('Janela', frame)\n",
    "    \n",
    "    #Comando de saída\n",
    "    if cv2.waitKey(1) & 0xFF == ord('s'):\n",
    "        break\n",
    "    \n",
    "    \n",
    "#Quando finalizar, destruir os elementos\n",
    "cap.release()\n",
    "cv2.destroyAllWindows()\n",
    "    \n",
    "    \n",
    "    \n",
    "    \n",
    "    \n",
    "    \n",
    "    \n",
    "    "
   ]
  },
  {
   "cell_type": "code",
   "execution_count": null,
   "id": "35faa11e-61a4-4ebf-be54-b57c1442a6f9",
   "metadata": {},
   "outputs": [],
   "source": []
  },
  {
   "cell_type": "code",
   "execution_count": null,
   "id": "dc6718d1-053f-4d31-91a3-e9ef9d2e3f3e",
   "metadata": {},
   "outputs": [],
   "source": []
  }
 ],
 "metadata": {
  "kernelspec": {
   "display_name": "Python 3",
   "language": "python",
   "name": "python3"
  },
  "language_info": {
   "codemirror_mode": {
    "name": "ipython",
    "version": 3
   },
   "file_extension": ".py",
   "mimetype": "text/x-python",
   "name": "python",
   "nbconvert_exporter": "python",
   "pygments_lexer": "ipython3",
   "version": "3.8.8"
  }
 },
 "nbformat": 4,
 "nbformat_minor": 5
}
