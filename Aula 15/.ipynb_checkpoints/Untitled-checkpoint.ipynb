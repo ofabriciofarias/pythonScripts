{
 "cells": [
  {
   "cell_type": "code",
   "execution_count": 21,
   "id": "dff603f5-effd-44b4-ab16-54de9d3c3fbe",
   "metadata": {},
   "outputs": [],
   "source": [
    "#Bibliotecas\n",
    "import cv2\n",
    "import numpy as np\n",
    "import matplotlib.pyplot as plt\n",
    "%matplotlib inline\n",
    "\n",
    "#Função para apresentação da imagem\n",
    "def apresentaImg(imagem):\n",
    "    img = plt.figure(figsize=(30,28))\n",
    "    ax = img.add_subplot(111)\n",
    "    ax.imshow(imagem, cmap = 'gray')\n",
    "    \n",
    "#Carregando as Imagens\n",
    "leite_condensado = cv2.imread('leite_condensado.jpg')\n",
    "leite_condensado = cv2.cvtColor(leite_condensado, cv2.COLOR_BGR2GRAY)\n",
    "\n",
    "pratileira_leite = cv2.imread('pratileira_leite.jpg')\n",
    "pratileira_leite = cv2.cvtColor(pratileira_leite, cv2.COLOR_BGR2GRAY)\n"
   ]
  },
  {
   "cell_type": "code",
   "execution_count": 23,
   "id": "cfb34b45-2afa-4510-872c-79d8c6b03c57",
   "metadata": {},
   "outputs": [],
   "source": [
    "#sift = cv2.xfeatures2d.SIFT_create() Depreciado\n",
    "#Substituir por\n",
    "sift = cv2.SIFT_create()  # Aqui, corrigido para cv2.SIFT_create()"
   ]
  },
  {
   "cell_type": "code",
   "execution_count": 25,
   "id": "6d39c3c8-500e-4fbd-b96e-42c9869998d6",
   "metadata": {},
   "outputs": [],
   "source": [
    "kp1, des1 = sift.detectAndCompute(leite_condensado, None)\n",
    "kp2, des2 = sift.detectAndCompute(pratileira_leite, None)\n"
   ]
  },
  {
   "cell_type": "code",
   "execution_count": 26,
   "id": "149065a1-ac32-41fc-b50d-9663118917c6",
   "metadata": {},
   "outputs": [],
   "source": [
    "forcaBruta = cv2.BFMatcher()"
   ]
  },
  {
   "cell_type": "code",
   "execution_count": 27,
   "id": "544cf82d-5b1a-4cec-9f8f-111b4ecdde99",
   "metadata": {},
   "outputs": [],
   "source": [
    "matches = forcaBruta.knnMatch(des1,des2, k = 2)"
   ]
  },
  {
   "cell_type": "code",
   "execution_count": 28,
   "id": "ca083951-5c3e-4868-8942-4b6610303468",
   "metadata": {},
   "outputs": [],
   "source": [
    "#matches"
   ]
  },
  {
   "cell_type": "code",
   "execution_count": 29,
   "id": "3340d482-4baa-408d-b4ff-1e4248ead78f",
   "metadata": {},
   "outputs": [],
   "source": [
    "good = []\n",
    "\n",
    "for match1, match2 in matches:\n",
    "    #Se match 1 discancia é menor que 75% da distancia do match 2\n",
    "    #entao o descritor eh é um bom match, mantém\n",
    "    if match1.distance < 0.6*match2.distance:\n",
    "        good.append([match1])"
   ]
  },
  {
   "cell_type": "code",
   "execution_count": 30,
   "id": "51a0bc11-d3a7-458d-9871-f51eb0d51b2d",
   "metadata": {},
   "outputs": [
    {
     "data": {
      "text/plain": [
       "32"
      ]
     },
     "execution_count": 30,
     "metadata": {},
     "output_type": "execute_result"
    }
   ],
   "source": [
    "len(good)"
   ]
  },
  {
   "cell_type": "code",
   "execution_count": 31,
   "id": "512e1c84-1a5c-420a-b10d-83c65239d824",
   "metadata": {},
   "outputs": [
    {
     "data": {
      "text/plain": [
       "8293"
      ]
     },
     "execution_count": 31,
     "metadata": {},
     "output_type": "execute_result"
    }
   ],
   "source": [
    "len(matches)"
   ]
  },
  {
   "cell_type": "code",
   "execution_count": 32,
   "id": "e061b00a-6d91-4d28-94d8-047e9e251326",
   "metadata": {},
   "outputs": [],
   "source": [
    "sift_matches = cv2.drawMatchesKnn(\n",
    "    leite_condensado, kp1, pratileira_leite, kp2, good,\n",
    "    None, flags = 2)"
   ]
  },
  {
   "cell_type": "code",
   "execution_count": 33,
   "id": "a2672c62-ffb2-417f-8ce4-aa65ab85e141",
   "metadata": {},
   "outputs": [],
   "source": [
    "apresentaImg(sift_matches)"
   ]
  },
  {
   "cell_type": "code",
   "execution_count": null,
   "id": "45dbc868-3f12-4da4-a609-dde0a257e882",
   "metadata": {},
   "outputs": [],
   "source": []
  }
 ],
 "metadata": {
  "kernelspec": {
   "display_name": "Python [conda env:base] *",
   "language": "python",
   "name": "conda-base-py"
  },
  "language_info": {
   "codemirror_mode": {
    "name": "ipython",
    "version": 3
   },
   "file_extension": ".py",
   "mimetype": "text/x-python",
   "name": "python",
   "nbconvert_exporter": "python",
   "pygments_lexer": "ipython3",
   "version": "3.12.7"
  }
 },
 "nbformat": 4,
 "nbformat_minor": 5
}
