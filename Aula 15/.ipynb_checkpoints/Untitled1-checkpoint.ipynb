{
 "cells": [
  {
   "cell_type": "code",
   "execution_count": 41,
   "id": "23fb1e03-6b81-427f-b803-e65c8eb9231d",
   "metadata": {},
   "outputs": [],
   "source": [
    "#Bibliotecas\n",
    "import cv2\n",
    "import numpy as np\n",
    "import matplotlib.pyplot as plt\n",
    "%matplotlib inline\n",
    "\n",
    "#Função para apresentação da imagem\n",
    "def apresentaImg(imagem):\n",
    "    img = plt.figure(figsize=(30,28))\n",
    "    ax = img.add_subplot(111)\n",
    "    ax.imshow(imagem, cmap = 'gray')\n",
    "    plt.show()\n",
    "    \n",
    "#Carregando as Imagens\n",
    "leite_condensado = cv2.imread('leite_condensado.jpg')\n",
    "leite_condensado = cv2.cvtColor(leite_condensado, cv2.COLOR_BGR2GRAY)\n",
    "\n",
    "pratileira_leite = cv2.imread('pratileira_leite.jpg')\n",
    "pratileira_leite = cv2.cvtColor(pratileira_leite, cv2.COLOR_BGR2GRAY)\n"
   ]
  },
  {
   "cell_type": "code",
   "execution_count": 42,
   "id": "a549d3ab-95db-44b3-aef9-cf005a9c8ea2",
   "metadata": {},
   "outputs": [],
   "source": [
    "#sift = cv2.xfeatures2d.SIFT_create() Depreciado\n",
    "#Substituir por\n",
    "sift = cv2.SIFT_create()  # Aqui, corrigido para cv2.SIFT_create()"
   ]
  },
  {
   "cell_type": "code",
   "execution_count": null,
   "id": "de7d8318-351d-4765-b53b-8019355e9334",
   "metadata": {},
   "outputs": [],
   "source": [
    "kp1, des1 = sift.detectAndCompute(leite_condensado, None)\n",
    "kp2, des2 = sift.detectAndCompute(pratileira_leite, None)"
   ]
  },
  {
   "cell_type": "code",
   "execution_count": null,
   "id": "b6265f31-60e4-464b-ae74-84aa135d718d",
   "metadata": {},
   "outputs": [],
   "source": [
    "#Parametros Flann based matches\n",
    "#Fast libracy for approximate near neighbours\n",
    "#Só encontra os próximos vizinhos, que é um bom match,\n",
    "# mas não necessariamente a melhor\n",
    "FLANN_INDEX_KDTREE = 0\n",
    "#Criar um dicionário\n",
    "index_params = dict(algorithm = FLANN_INDEX_KDTREE, trees = 5)\n",
    "\n",
    "search_params = dict(checks = 50)"
   ]
  },
  {
   "cell_type": "code",
   "execution_count": null,
   "id": "a099cd7a-aeee-485d-a11c-b1227df8d5be",
   "metadata": {},
   "outputs": [],
   "source": []
  },
  {
   "cell_type": "code",
   "execution_count": null,
   "id": "c45f61b0-84e3-428b-8eac-9fae4b0e629a",
   "metadata": {},
   "outputs": [],
   "source": [
    "flann = cv2.FlannBasedMatcher(index_params, search_params)"
   ]
  },
  {
   "cell_type": "code",
   "execution_count": null,
   "id": "98e3f44f-86ab-4d8d-8f01-126c0e00628f",
   "metadata": {},
   "outputs": [],
   "source": [
    "matches = flann.knnMatch(des1, des2, k = 2)"
   ]
  },
  {
   "cell_type": "code",
   "execution_count": null,
   "id": "58f29f84-97a6-4ad3-a91b-2f3f40498ba8",
   "metadata": {},
   "outputs": [],
   "source": []
  },
  {
   "cell_type": "code",
   "execution_count": null,
   "id": "316d608c-2bf6-4b01-9128-b04b74ea7624",
   "metadata": {},
   "outputs": [],
   "source": [
    "good = []\n",
    "\n",
    "for match1, match2 in matches:\n",
    "    if match1.distance < 0.7 * match2.distance:\n",
    "        good.append([match1])"
   ]
  },
  {
   "cell_type": "code",
   "execution_count": null,
   "id": "3a1ff93c-c99b-4212-ba35-7f89228f018a",
   "metadata": {},
   "outputs": [],
   "source": [
    "flann_matches = cv2.drawMatchesKnn(leite_condensado, kp1, pratileira_leite, kp2, good, None, flags = 0)"
   ]
  },
  {
   "cell_type": "code",
   "execution_count": null,
   "id": "112353a0-dc83-4cc7-8ed8-3313adf95902",
   "metadata": {},
   "outputs": [],
   "source": [
    "apresentaImg(flann_matches)"
   ]
  },
  {
   "cell_type": "code",
   "execution_count": null,
   "id": "ba304b60-6f0a-4648-bfca-c1330d133119",
   "metadata": {},
   "outputs": [],
   "source": [
    "matchesMask = [[0,0] for i in range(len(matches))]"
   ]
  },
  {
   "cell_type": "code",
   "execution_count": null,
   "id": "40ca3f1e-862a-4ef0-a3e3-1fda4e86cbbd",
   "metadata": {},
   "outputs": [],
   "source": [
    "#good = []\n",
    "\n",
    "for i, (match1, match2) in enumerate(matches):\n",
    "    if match1.distance < 0.7 * match2.distance:\n",
    "        matchesMask[i] = [1,0]"
   ]
  },
  {
   "cell_type": "code",
   "execution_count": null,
   "id": "cd3650f0-6b77-47cc-b546-f616dad5a724",
   "metadata": {},
   "outputs": [],
   "source": []
  },
  {
   "cell_type": "code",
   "execution_count": null,
   "id": "e33ceca8-73d7-4123-9370-3a7a7b38fec2",
   "metadata": {},
   "outputs": [],
   "source": [
    "draw_params = dict(matchColor=(0,0,255),\n",
    "                  singlePointColor = (255,0,0),\n",
    "                  matchesMask=matchesMask, \n",
    "                  flags = 0)"
   ]
  },
  {
   "cell_type": "code",
   "execution_count": null,
   "id": "961d4589-049d-4d46-a5bf-ad67229e8183",
   "metadata": {},
   "outputs": [],
   "source": [
    "flann_matches = cv2.drawMatchesKnn(leite_condensado, kp1, pratileira_leite, kp2, matches, None, **draw_params)"
   ]
  },
  {
   "cell_type": "code",
   "execution_count": null,
   "id": "749fa4d8-7535-42a7-9276-65eec221e2d3",
   "metadata": {},
   "outputs": [],
   "source": [
    "apresentaImg(flann_matches)"
   ]
  },
  {
   "cell_type": "code",
   "execution_count": null,
   "id": "1be212e1-285b-4884-818b-812ca0074fd4",
   "metadata": {},
   "outputs": [],
   "source": []
  },
  {
   "cell_type": "code",
   "execution_count": null,
   "id": "75dff59e-80f5-4850-b0cf-5559829c3161",
   "metadata": {},
   "outputs": [],
   "source": []
  }
 ],
 "metadata": {
  "kernelspec": {
   "display_name": "Python [conda env:base] *",
   "language": "python",
   "name": "conda-base-py"
  },
  "language_info": {
   "codemirror_mode": {
    "name": "ipython",
    "version": 3
   },
   "file_extension": ".py",
   "mimetype": "text/x-python",
   "name": "python",
   "nbconvert_exporter": "python",
   "pygments_lexer": "ipython3",
   "version": "3.12.7"
  }
 },
 "nbformat": 4,
 "nbformat_minor": 5
}
