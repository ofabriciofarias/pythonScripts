{
 "cells": [
  {
   "cell_type": "code",
   "execution_count": 25,
   "id": "f4821266-f83c-4bfb-a140-3b565b60e5df",
   "metadata": {},
   "outputs": [],
   "source": [
    "#Bibliotecas\n",
    "import cv2\n",
    "import numpy as np\n",
    "import matplotlib.pyplot as plt\n",
    "%matplotlib inline\n",
    "\n",
    "#Função para apresentação da imagem\n",
    "def apresentaImg(imagem):\n",
    "    img = plt.figure(figsize=(30,28))\n",
    "    ax = img.add_subplot(111)\n",
    "    ax.imshow(imagem, cmap = 'gray')\n",
    "    \n",
    "#Carregando as Imagens\n",
    "vinho = cv2.imread('vinho.jpg')\n",
    "vinho = cv2.cvtColor(vinho, cv2.COLOR_BGR2GRAY)\n",
    "\n",
    "pratileira_vinhos = cv2.imread('pratileira_vinhos.jpg')\n",
    "pratileira_vinhos = cv2.cvtColor(pratileira_vinhos, cv2.COLOR_BGR2GRAY)"
   ]
  },
  {
   "cell_type": "code",
   "execution_count": 27,
   "id": "3727aa23-8dda-448c-bf41-14f280eab9e6",
   "metadata": {},
   "outputs": [],
   "source": [
    "#sift = cv2.xfeatures2d.SIFT_create() Depreciado\n",
    "#Substituir por\n",
    "sift = cv2.SIFT_create()  # Aqui, corrigido para cv2.SIFT_create()\n"
   ]
  },
  {
   "cell_type": "code",
   "execution_count": 29,
   "id": "26b766ff-8ef5-4f71-9f52-bc634869c095",
   "metadata": {},
   "outputs": [],
   "source": [
    "kp1, des1 = sift.detectAndCompute(vinho, None)\n",
    "kp2, des2 = sift.detectAndCompute(pratileira_vinhos, None)"
   ]
  },
  {
   "cell_type": "code",
   "execution_count": 31,
   "id": "f1756a25-177b-421e-afaa-17e7e99ff84e",
   "metadata": {},
   "outputs": [],
   "source": [
    "forcaBruta = cv2.BFMatcher()"
   ]
  },
  {
   "cell_type": "code",
   "execution_count": 33,
   "id": "4c1b9c41-3552-4b9d-81c2-40ea08d6005f",
   "metadata": {},
   "outputs": [],
   "source": [
    "matches = forcaBruta.knnMatch(des1, des2, k = 2)"
   ]
  },
  {
   "cell_type": "code",
   "execution_count": 35,
   "id": "c8f85fd8-44c7-4883-aa71-4f535180d1af",
   "metadata": {},
   "outputs": [],
   "source": [
    "good = []\n",
    "\n",
    "for match1, match2 in matches:\n",
    "    if match1.distance < 0.75*match2.distance:\n",
    "        good.append([match1])"
   ]
  },
  {
   "cell_type": "code",
   "execution_count": 37,
   "id": "aa7cfd1d-abf1-4c6d-b3f9-d355c9caa47b",
   "metadata": {},
   "outputs": [
    {
     "data": {
      "text/plain": [
       "31853"
      ]
     },
     "execution_count": 37,
     "metadata": {},
     "output_type": "execute_result"
    }
   ],
   "source": [
    "len(matches)"
   ]
  },
  {
   "cell_type": "code",
   "execution_count": 39,
   "id": "73b23a9d-4a88-4a9e-b5b3-7b5f8788f730",
   "metadata": {},
   "outputs": [
    {
     "data": {
      "text/plain": [
       "283"
      ]
     },
     "execution_count": 39,
     "metadata": {},
     "output_type": "execute_result"
    }
   ],
   "source": [
    "len(good)"
   ]
  },
  {
   "cell_type": "code",
   "execution_count": 41,
   "id": "2e72584d-9f55-4611-9937-51e08a47f1b4",
   "metadata": {},
   "outputs": [],
   "source": [
    "sift_matches = cv2.drawMatchesKnn(vinho, kp1, pratileira_vinhos, kp2, good, None, flags = 2)"
   ]
  },
  {
   "cell_type": "code",
   "execution_count": 43,
   "id": "c1feb594-3cf9-4020-94f7-fc3b6355ef74",
   "metadata": {},
   "outputs": [],
   "source": [
    "apresentaImg(sift_matches)"
   ]
  },
  {
   "cell_type": "code",
   "execution_count": null,
   "id": "9dbf7f38-7d69-454d-ae82-fbd0a2ba65a4",
   "metadata": {},
   "outputs": [],
   "source": []
  }
 ],
 "metadata": {
  "kernelspec": {
   "display_name": "Python [conda env:base] *",
   "language": "python",
   "name": "conda-base-py"
  },
  "language_info": {
   "codemirror_mode": {
    "name": "ipython",
    "version": 3
   },
   "file_extension": ".py",
   "mimetype": "text/x-python",
   "name": "python",
   "nbconvert_exporter": "python",
   "pygments_lexer": "ipython3",
   "version": "3.12.7"
  }
 },
 "nbformat": 4,
 "nbformat_minor": 5
}
