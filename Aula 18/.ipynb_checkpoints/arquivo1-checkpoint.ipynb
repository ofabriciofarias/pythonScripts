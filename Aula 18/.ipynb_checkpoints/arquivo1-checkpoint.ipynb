{
 "cells": [
  {
   "cell_type": "code",
   "execution_count": 70,
   "id": "82b168db-c23a-4c7f-ae94-85f809a8df71",
   "metadata": {},
   "outputs": [],
   "source": [
    "import numpy as np\n",
    "import cv2"
   ]
  },
  {
   "cell_type": "code",
   "execution_count": 87,
   "id": "e86faae2-b7b5-48ca-a61f-2aad9a7e6c79",
   "metadata": {},
   "outputs": [],
   "source": [
    "parametros_monitorar_bordas = dict(maxCorners = 2, qualityLevel = 0.3, minDistance = 7, blockSize = 7)"
   ]
  },
  {
   "cell_type": "code",
   "execution_count": 90,
   "id": "de6588e5-eaa9-4c11-8bd6-343d63d2957d",
   "metadata": {},
   "outputs": [],
   "source": [
    "#lucas kanade\n",
    "parametros_lk = dict(winSize=(200,200),maxLevel = 2, criteria = (cv2.TERM_CRITERIA_EPS | cv2.TERM_CRITERIA_COUNT, 10, 0.03))"
   ]
  },
  {
   "cell_type": "code",
   "execution_count": null,
   "id": "e379701d-1b3c-42b7-a96c-3a4bc6b2b96a",
   "metadata": {},
   "outputs": [],
   "source": [
    "cap = cv2.VideoCapture(0)\n",
    "\n",
    "ret, prev_frame = cap.read()\n",
    "\n",
    "prev_gray = cv2.cvtColor(prev_frame, cv2.COLOR_BGR2GRAY)\n",
    "\n",
    "#Pontos para monitorar\n",
    "prevPontos = cv2.goodFeaturesToTrack(prev_gray, mask = None, **parametros_monitorar_bordas)\n",
    "\n",
    "mask = np.zeros_like(prev_frame)\n",
    "\n",
    "while True:\n",
    "    ret, frame = cap.read()\n",
    "\n",
    "    frame_gray = cv2.cvtColor(frame, cv2.COLOR_BGR2GRAY)\n",
    "\n",
    "    proxPontos, status, erro = cv2.calcOpticalFlowPyrLK(prev_gray, frame_gray, prevPontos, None, **parametros_lk)\n",
    "    \n",
    "    good_new = proxPontos[status==1]\n",
    "    good_prev = prevPontos[status==1]\n",
    "\n",
    "    for i, (novo, prev) in enumerate(zip(good_new, good_prev)):\n",
    "        #x_novo, y_novo = novo.ravel()\n",
    "        #x_prev, y_prev = prev.ravel()\n",
    "\n",
    "        # Convertendo para inteiros e extraindo as coordenadas dos pontos\n",
    "        x_novo, y_novo = int(novo[0]), int(novo[1])\n",
    "        x_prev, y_prev = int(previo[0]), int(previo[1])\n",
    "        \n",
    "        mask = cv2.line(mask, (x_novo, y_novo), (x_prev, y_prev), (0,255,0),3)\n",
    "\n",
    "        frame = cv2.circle(frame, (x_novo, y_novo), 8, (0,0,255),-1)\n",
    "\n",
    "    imagem = cv2.add(frame,mask)\n",
    "    cv2.imshow('Monitorando', imagem)\n",
    "    plt.show()\n",
    "\n",
    "    k = cv2.waitKey(30) & 0xFF\n",
    "    if k == 27:\n",
    "        break\n",
    "\n",
    "    prev_gray = frame_gray.copy()\n",
    "    prevPontos = good_new.reshape(-1,1,2)\n",
    "\n",
    "cv2.destroyAllWindows()\n",
    "cap.release()\n",
    "    "
   ]
  },
  {
   "cell_type": "code",
   "execution_count": null,
   "id": "38a97a5b-33c0-41fc-9f45-b20b4e297614",
   "metadata": {},
   "outputs": [],
   "source": []
  },
  {
   "cell_type": "code",
   "execution_count": null,
   "id": "16828950-c386-4928-8087-e1c3fbbe417f",
   "metadata": {},
   "outputs": [],
   "source": []
  },
  {
   "cell_type": "code",
   "execution_count": null,
   "id": "53a0bf8c-9631-4d1d-a497-4ed17cd9aad7",
   "metadata": {},
   "outputs": [],
   "source": []
  }
 ],
 "metadata": {
  "kernelspec": {
   "display_name": "Python [conda env:base] *",
   "language": "python",
   "name": "conda-base-py"
  },
  "language_info": {
   "codemirror_mode": {
    "name": "ipython",
    "version": 3
   },
   "file_extension": ".py",
   "mimetype": "text/x-python",
   "name": "python",
   "nbconvert_exporter": "python",
   "pygments_lexer": "ipython3",
   "version": "3.12.7"
  }
 },
 "nbformat": 4,
 "nbformat_minor": 5
}
