{
 "cells": [
  {
   "cell_type": "code",
   "execution_count": 5,
   "id": "997efb21-55ca-48f7-b584-56c94ffc2065",
   "metadata": {},
   "outputs": [
    {
     "ename": "TwoFactorRequired",
     "evalue": "Two-factor authentication required (you did not provide verification_code for login method)",
     "output_type": "error",
     "traceback": [
      "\u001b[1;31m---------------------------------------------------------------------------\u001b[0m",
      "\u001b[1;31mHTTPError\u001b[0m                                 Traceback (most recent call last)",
      "File \u001b[1;32m~\\anaconda3\\envs\\meu_env\\lib\\site-packages\\instagrapi\\mixins\\private.py:359\u001b[0m, in \u001b[0;36mPrivateRequestMixin._send_private_request\u001b[1;34m(self, endpoint, data, params, login, with_signature, headers, extra_sig, domain)\u001b[0m\n\u001b[0;32m    358\u001b[0m \u001b[38;5;28mself\u001b[39m\u001b[38;5;241m.\u001b[39mlast_response \u001b[38;5;241m=\u001b[39m response\n\u001b[1;32m--> 359\u001b[0m \u001b[43mresponse\u001b[49m\u001b[38;5;241;43m.\u001b[39;49m\u001b[43mraise_for_status\u001b[49m\u001b[43m(\u001b[49m\u001b[43m)\u001b[49m\n\u001b[0;32m    360\u001b[0m \u001b[38;5;66;03m# last_json - for Sentry context in traceback\u001b[39;00m\n",
      "File \u001b[1;32m~\\anaconda3\\envs\\meu_env\\lib\\site-packages\\requests\\models.py:1024\u001b[0m, in \u001b[0;36mResponse.raise_for_status\u001b[1;34m(self)\u001b[0m\n\u001b[0;32m   1023\u001b[0m \u001b[38;5;28;01mif\u001b[39;00m http_error_msg:\n\u001b[1;32m-> 1024\u001b[0m     \u001b[38;5;28;01mraise\u001b[39;00m HTTPError(http_error_msg, response\u001b[38;5;241m=\u001b[39m\u001b[38;5;28mself\u001b[39m)\n",
      "\u001b[1;31mHTTPError\u001b[0m: 400 Client Error: Bad Request for url: https://i.instagram.com/api/v1/accounts/login/",
      "\nDuring handling of the above exception, another exception occurred:\n",
      "\u001b[1;31mTwoFactorRequired\u001b[0m                         Traceback (most recent call last)",
      "File \u001b[1;32m~\\anaconda3\\envs\\meu_env\\lib\\site-packages\\instagrapi\\mixins\\auth.py:441\u001b[0m, in \u001b[0;36mLoginMixin.login\u001b[1;34m(self, username, password, relogin, verification_code)\u001b[0m\n\u001b[0;32m    440\u001b[0m \u001b[38;5;28;01mtry\u001b[39;00m:\n\u001b[1;32m--> 441\u001b[0m     logged \u001b[38;5;241m=\u001b[39m \u001b[38;5;28;43mself\u001b[39;49m\u001b[38;5;241;43m.\u001b[39;49m\u001b[43mprivate_request\u001b[49m\u001b[43m(\u001b[49m\u001b[38;5;124;43m\"\u001b[39;49m\u001b[38;5;124;43maccounts/login/\u001b[39;49m\u001b[38;5;124;43m\"\u001b[39;49m\u001b[43m,\u001b[49m\u001b[43m \u001b[49m\u001b[43mdata\u001b[49m\u001b[43m,\u001b[49m\u001b[43m \u001b[49m\u001b[43mlogin\u001b[49m\u001b[38;5;241;43m=\u001b[39;49m\u001b[38;5;28;43;01mTrue\u001b[39;49;00m\u001b[43m)\u001b[49m\n\u001b[0;32m    442\u001b[0m     \u001b[38;5;28mself\u001b[39m\u001b[38;5;241m.\u001b[39mauthorization_data \u001b[38;5;241m=\u001b[39m \u001b[38;5;28mself\u001b[39m\u001b[38;5;241m.\u001b[39mparse_authorization(\n\u001b[0;32m    443\u001b[0m         \u001b[38;5;28mself\u001b[39m\u001b[38;5;241m.\u001b[39mlast_response\u001b[38;5;241m.\u001b[39mheaders\u001b[38;5;241m.\u001b[39mget(\u001b[38;5;124m\"\u001b[39m\u001b[38;5;124mig-set-authorization\u001b[39m\u001b[38;5;124m\"\u001b[39m)\n\u001b[0;32m    444\u001b[0m     )\n",
      "File \u001b[1;32m~\\anaconda3\\envs\\meu_env\\lib\\site-packages\\instagrapi\\mixins\\private.py:541\u001b[0m, in \u001b[0;36mPrivateRequestMixin.private_request\u001b[1;34m(self, endpoint, data, params, login, with_signature, headers, extra_sig, domain)\u001b[0m\n\u001b[0;32m    540\u001b[0m \u001b[38;5;28;01melse\u001b[39;00m:\n\u001b[1;32m--> 541\u001b[0m     \u001b[38;5;28;01mraise\u001b[39;00m e\n\u001b[0;32m    542\u001b[0m \u001b[38;5;28;01mif\u001b[39;00m login \u001b[38;5;129;01mand\u001b[39;00m \u001b[38;5;28mself\u001b[39m\u001b[38;5;241m.\u001b[39muser_id:\n\u001b[0;32m    543\u001b[0m     \u001b[38;5;66;03m# After challenge resolve return last_json\u001b[39;00m\n",
      "File \u001b[1;32m~\\anaconda3\\envs\\meu_env\\lib\\site-packages\\instagrapi\\mixins\\private.py:526\u001b[0m, in \u001b[0;36mPrivateRequestMixin.private_request\u001b[1;34m(self, endpoint, data, params, login, with_signature, headers, extra_sig, domain)\u001b[0m\n\u001b[0;32m    525\u001b[0m     \u001b[38;5;28mself\u001b[39m\u001b[38;5;241m.\u001b[39mprivate_requests_count \u001b[38;5;241m+\u001b[39m\u001b[38;5;241m=\u001b[39m \u001b[38;5;241m1\u001b[39m\n\u001b[1;32m--> 526\u001b[0m     \u001b[38;5;28mself\u001b[39m\u001b[38;5;241m.\u001b[39m_send_private_request(endpoint, \u001b[38;5;241m*\u001b[39m\u001b[38;5;241m*\u001b[39mkwargs)\n\u001b[0;32m    527\u001b[0m \u001b[38;5;28;01mexcept\u001b[39;00m ClientRequestTimeout:\n",
      "File \u001b[1;32m~\\anaconda3\\envs\\meu_env\\lib\\site-packages\\instagrapi\\mixins\\private.py:419\u001b[0m, in \u001b[0;36mPrivateRequestMixin._send_private_request\u001b[1;34m(self, endpoint, data, params, login, with_signature, headers, extra_sig, domain)\u001b[0m\n\u001b[0;32m    418\u001b[0m         last_json[\u001b[38;5;124m\"\u001b[39m\u001b[38;5;124mmessage\u001b[39m\u001b[38;5;124m\"\u001b[39m] \u001b[38;5;241m=\u001b[39m \u001b[38;5;124m\"\u001b[39m\u001b[38;5;124mTwo-factor authentication required\u001b[39m\u001b[38;5;124m\"\u001b[39m\n\u001b[1;32m--> 419\u001b[0m     \u001b[38;5;28;01mraise\u001b[39;00m TwoFactorRequired(\u001b[38;5;241m*\u001b[39m\u001b[38;5;241m*\u001b[39mlast_json)\n\u001b[0;32m    420\u001b[0m \u001b[38;5;28;01melif\u001b[39;00m \u001b[38;5;124m\"\u001b[39m\u001b[38;5;124mVideoTooLongException\u001b[39m\u001b[38;5;124m\"\u001b[39m \u001b[38;5;129;01min\u001b[39;00m message:\n",
      "\u001b[1;31mTwoFactorRequired\u001b[0m: Two-factor authentication required",
      "\nDuring handling of the above exception, another exception occurred:\n",
      "\u001b[1;31mTwoFactorRequired\u001b[0m                         Traceback (most recent call last)",
      "Cell \u001b[1;32mIn[5], line 34\u001b[0m\n\u001b[0;32m     31\u001b[0m     \u001b[38;5;28mprint\u001b[39m(\u001b[38;5;124mf\u001b[39m\u001b[38;5;124m\"\u001b[39m\u001b[38;5;132;01m{\u001b[39;00m\u001b[38;5;28mlen\u001b[39m(amigos)\u001b[38;5;132;01m}\u001b[39;00m\u001b[38;5;124m contatos adicionados à lista de melhores amigos!\u001b[39m\u001b[38;5;124m\"\u001b[39m)\n\u001b[0;32m     33\u001b[0m \u001b[38;5;28;01mif\u001b[39;00m \u001b[38;5;18m__name__\u001b[39m \u001b[38;5;241m==\u001b[39m \u001b[38;5;124m\"\u001b[39m\u001b[38;5;124m__main__\u001b[39m\u001b[38;5;124m\"\u001b[39m:\n\u001b[1;32m---> 34\u001b[0m     \u001b[43madicionar_melhores_amigos\u001b[49m\u001b[43m(\u001b[49m\u001b[43m)\u001b[49m\n",
      "Cell \u001b[1;32mIn[5], line 13\u001b[0m, in \u001b[0;36madicionar_melhores_amigos\u001b[1;34m()\u001b[0m\n\u001b[0;32m     12\u001b[0m \u001b[38;5;28;01mdef\u001b[39;00m\u001b[38;5;250m \u001b[39m\u001b[38;5;21madicionar_melhores_amigos\u001b[39m():\n\u001b[1;32m---> 13\u001b[0m     cl \u001b[38;5;241m=\u001b[39m \u001b[43mlogin_instagram\u001b[49m\u001b[43m(\u001b[49m\u001b[43m)\u001b[49m\n\u001b[0;32m     15\u001b[0m     \u001b[38;5;66;03m# Obtém a lista de seguidores\u001b[39;00m\n\u001b[0;32m     16\u001b[0m     seguidores \u001b[38;5;241m=\u001b[39m cl\u001b[38;5;241m.\u001b[39muser_followers(cl\u001b[38;5;241m.\u001b[39muser_id)\n",
      "Cell \u001b[1;32mIn[5], line 9\u001b[0m, in \u001b[0;36mlogin_instagram\u001b[1;34m()\u001b[0m\n\u001b[0;32m      7\u001b[0m \u001b[38;5;28;01mdef\u001b[39;00m\u001b[38;5;250m \u001b[39m\u001b[38;5;21mlogin_instagram\u001b[39m():\n\u001b[0;32m      8\u001b[0m     cl \u001b[38;5;241m=\u001b[39m Client()\n\u001b[1;32m----> 9\u001b[0m     \u001b[43mcl\u001b[49m\u001b[38;5;241;43m.\u001b[39;49m\u001b[43mlogin\u001b[49m\u001b[43m(\u001b[49m\u001b[43mUSERNAME\u001b[49m\u001b[43m,\u001b[49m\u001b[43m \u001b[49m\u001b[43mPASSWORD\u001b[49m\u001b[43m)\u001b[49m\n\u001b[0;32m     10\u001b[0m     \u001b[38;5;28;01mreturn\u001b[39;00m cl\n",
      "File \u001b[1;32m~\\anaconda3\\envs\\meu_env\\lib\\site-packages\\instagrapi\\mixins\\auth.py:447\u001b[0m, in \u001b[0;36mLoginMixin.login\u001b[1;34m(self, username, password, relogin, verification_code)\u001b[0m\n\u001b[0;32m    445\u001b[0m \u001b[38;5;28;01mexcept\u001b[39;00m TwoFactorRequired \u001b[38;5;28;01mas\u001b[39;00m e:\n\u001b[0;32m    446\u001b[0m     \u001b[38;5;28;01mif\u001b[39;00m \u001b[38;5;129;01mnot\u001b[39;00m verification_code\u001b[38;5;241m.\u001b[39mstrip():\n\u001b[1;32m--> 447\u001b[0m         \u001b[38;5;28;01mraise\u001b[39;00m TwoFactorRequired(\n\u001b[0;32m    448\u001b[0m             \u001b[38;5;124mf\u001b[39m\u001b[38;5;124m\"\u001b[39m\u001b[38;5;132;01m{\u001b[39;00me\u001b[38;5;132;01m}\u001b[39;00m\u001b[38;5;124m (you did not provide verification_code for login method)\u001b[39m\u001b[38;5;124m\"\u001b[39m\n\u001b[0;32m    449\u001b[0m         )\n\u001b[0;32m    450\u001b[0m     two_factor_identifier \u001b[38;5;241m=\u001b[39m \u001b[38;5;28mself\u001b[39m\u001b[38;5;241m.\u001b[39mlast_json\u001b[38;5;241m.\u001b[39mget(\u001b[38;5;124m\"\u001b[39m\u001b[38;5;124mtwo_factor_info\u001b[39m\u001b[38;5;124m\"\u001b[39m, {})\u001b[38;5;241m.\u001b[39mget(\n\u001b[0;32m    451\u001b[0m         \u001b[38;5;124m\"\u001b[39m\u001b[38;5;124mtwo_factor_identifier\u001b[39m\u001b[38;5;124m\"\u001b[39m\n\u001b[0;32m    452\u001b[0m     )\n\u001b[0;32m    453\u001b[0m     data \u001b[38;5;241m=\u001b[39m {\n\u001b[0;32m    454\u001b[0m         \u001b[38;5;124m\"\u001b[39m\u001b[38;5;124mverification_code\u001b[39m\u001b[38;5;124m\"\u001b[39m: verification_code,\n\u001b[0;32m    455\u001b[0m         \u001b[38;5;124m\"\u001b[39m\u001b[38;5;124mphone_id\u001b[39m\u001b[38;5;124m\"\u001b[39m: \u001b[38;5;28mself\u001b[39m\u001b[38;5;241m.\u001b[39mphone_id,\n\u001b[1;32m   (...)\u001b[0m\n\u001b[0;32m    463\u001b[0m         \u001b[38;5;124m\"\u001b[39m\u001b[38;5;124mverification_method\u001b[39m\u001b[38;5;124m\"\u001b[39m: \u001b[38;5;124m\"\u001b[39m\u001b[38;5;124m3\u001b[39m\u001b[38;5;124m\"\u001b[39m,\n\u001b[0;32m    464\u001b[0m     }\n",
      "\u001b[1;31mTwoFactorRequired\u001b[0m: Two-factor authentication required (you did not provide verification_code for login method)"
     ]
    }
   ],
   "source": [
    "from instagrapi import Client\n",
    "\n",
    "# Credenciais do Instagram (substitua pelas suas)\n",
    "USERNAME = \"xxxx\"\n",
    "PASSWORD = \"xxxxxx\"\n",
    "\n",
    "def login_instagram():\n",
    "    cl = Client()\n",
    "    cl.login(USERNAME, PASSWORD)\n",
    "    return cl\n",
    "\n",
    "def adicionar_melhores_amigos():\n",
    "    cl = login_instagram()\n",
    "    \n",
    "    # Obtém a lista de seguidores\n",
    "    seguidores = cl.user_followers(cl.user_id)\n",
    "    \n",
    "    # Obtém a lista de pessoas que você segue\n",
    "    seguindo = cl.user_following(cl.user_id)\n",
    "    \n",
    "    # Garante que só adicionamos pessoas que você segue de volta\n",
    "    amigos = set(seguidores.keys()) & set(seguindo.keys())\n",
    "    \n",
    "    if not amigos:\n",
    "        print(\"Nenhum amigo encontrado para adicionar à lista de melhores amigos.\")\n",
    "        return\n",
    "    \n",
    "    # Adiciona todos os amigos à lista de melhores amigos\n",
    "    cl.friendships_besties_add(amigos)\n",
    "    \n",
    "    print(f\"{len(amigos)} contatos adicionados à lista de melhores amigos!\")\n",
    "\n",
    "if __name__ == \"__main__\":\n",
    "    adicionar_melhores_amigos()\n"
   ]
  },
  {
   "cell_type": "code",
   "execution_count": null,
   "id": "1ec3265d-d7ab-4c8a-b629-90110ac542a4",
   "metadata": {},
   "outputs": [],
   "source": []
  }
 ],
 "metadata": {
  "kernelspec": {
   "display_name": "Python 3 (ipykernel)",
   "language": "python",
   "name": "python3"
  },
  "language_info": {
   "codemirror_mode": {
    "name": "ipython",
    "version": 3
   },
   "file_extension": ".py",
   "mimetype": "text/x-python",
   "name": "python",
   "nbconvert_exporter": "python",
   "pygments_lexer": "ipython3",
   "version": "3.9.18"
  }
 },
 "nbformat": 4,
 "nbformat_minor": 5
}
